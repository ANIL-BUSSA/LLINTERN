{
  "nbformat": 4,
  "nbformat_minor": 0,
  "metadata": {
    "colab": {
      "provenance": [],
      "authorship_tag": "ABX9TyN+PoRCKqvii8WOOV3DDx1K",
      "include_colab_link": true
    },
    "kernelspec": {
      "name": "python3",
      "display_name": "Python 3"
    },
    "language_info": {
      "name": "python"
    }
  },
  "cells": [
    {
      "cell_type": "markdown",
      "metadata": {
        "id": "view-in-github",
        "colab_type": "text"
      },
      "source": [
        "<a href=\"https://colab.research.google.com/github/ANIL-BUSSA/LLINTERN/blob/main/MovieRecomendationSystem.ipynb\" target=\"_parent\"><img src=\"https://colab.research.google.com/assets/colab-badge.svg\" alt=\"Open In Colab\"/></a>"
      ]
    },
    {
      "cell_type": "code",
      "source": [
        "# Install necessary libraries\n",
        "!pip install scikit-surprise pandas\n",
        "\n",
        "# Import libraries\n",
        "import pandas as pd\n",
        "from surprise import Dataset, Reader, SVD\n",
        "from surprise.model_selection import train_test_split\n",
        "from surprise import accuracy\n",
        "\n",
        "# Load the MovieLens-100k dataset\n",
        "url = \"http://files.grouplens.org/datasets/movielens/ml-100k/u.data\"\n",
        "columns = ['user_id', 'item_id', 'rating', 'timestamp']\n",
        "df = pd.read_csv(url, sep='\\t', names=columns)\n",
        "\n",
        "# Load the movie titles\n",
        "url_movies = \"http://files.grouplens.org/datasets/movielens/ml-100k/u.item\"\n",
        "columns_movies = ['movie_id', 'title', 'release_date', 'video_release_date', 'IMDb_URL', 'unknown',\n",
        "                  'Action', 'Adventure', 'Animation', 'Children', 'Comedy', 'Crime', 'Documentary',\n",
        "                  'Drama', 'Fantasy', 'Film-Noir', 'Horror', 'Musical', 'Mystery', 'Romance',\n",
        "                  'Sci-Fi', 'Thriller', 'War', 'Western']\n",
        "df_movies = pd.read_csv(url_movies, sep='|', names=columns_movies, encoding='latin-1')\n",
        "\n",
        "# Define the format of the dataset\n",
        "reader = Reader(rating_scale=(1, 5))\n",
        "\n",
        "# Load the dataset into Surprise\n",
        "data = Dataset.load_from_df(df[['user_id', 'item_id', 'rating']], reader)\n",
        "\n",
        "# Split the dataset into training and test set\n",
        "trainset, testset = train_test_split(data, test_size=0.2)\n",
        "\n",
        "# Use the SVD algorithm\n",
        "model = SVD()\n",
        "\n",
        "# Train the model\n",
        "model.fit(trainset)\n",
        "\n",
        "# Predict ratings for the test set\n",
        "predictions = model.test(testset)\n",
        "\n",
        "# Compute the RMSE (Root Mean Squared Error)\n",
        "rmse = accuracy.rmse(predictions)\n",
        "\n",
        "# Function to get top N recommendations for a given user including movie titles\n",
        "def get_top_n_recommendations(user_id, model, n=10):\n",
        "    # Get a list of all item ids\n",
        "    all_items = df['item_id'].unique()\n",
        "\n",
        "    # Predict ratings for all items for the given user\n",
        "    user_predictions = [model.predict(user_id, item_id) for item_id in all_items]\n",
        "\n",
        "    # Sort predictions by estimated rating\n",
        "    user_predictions.sort(key=lambda x: x.est, reverse=True)\n",
        "\n",
        "    # Get the top N items\n",
        "    top_n_items = [pred.iid for pred in user_predictions[:n]]\n",
        "\n",
        "    # Get the movie titles for the top N items\n",
        "    top_n_movies = df_movies[df_movies['movie_id'].isin(top_n_items)][['movie_id', 'title']]\n",
        "\n",
        "    return top_n_movies\n",
        "\n",
        "# Get top 10 recommendations for a user (e.g., user_id = 1)\n",
        "user_id = 1\n",
        "top_n_recommendations = get_top_n_recommendations(user_id, model, n=20)\n",
        "print(f\"Top 10 movie recommendations for user {user_id}:\")\n",
        "print(top_n_recommendations)\n"
      ],
      "metadata": {
        "colab": {
          "base_uri": "https://localhost:8080/"
        },
        "id": "4XLahmTgFZcV",
        "outputId": "d8c7a17e-b763-4bb5-c0f0-a6afc59b8473"
      },
      "execution_count": 1,
      "outputs": [
        {
          "output_type": "stream",
          "name": "stdout",
          "text": [
            "Collecting scikit-surprise\n",
            "  Downloading scikit_surprise-1.1.4.tar.gz (154 kB)\n",
            "\u001b[2K     \u001b[90m━━━━━━━━━━━━━━━━━━━━━━━━━━━━━━━━━━━━━━━━\u001b[0m \u001b[32m154.4/154.4 kB\u001b[0m \u001b[31m1.9 MB/s\u001b[0m eta \u001b[36m0:00:00\u001b[0m\n",
            "\u001b[?25h  Installing build dependencies ... \u001b[?25l\u001b[?25hdone\n",
            "  Getting requirements to build wheel ... \u001b[?25l\u001b[?25hdone\n",
            "  Preparing metadata (pyproject.toml) ... \u001b[?25l\u001b[?25hdone\n",
            "Requirement already satisfied: pandas in /usr/local/lib/python3.10/dist-packages (2.0.3)\n",
            "Requirement already satisfied: joblib>=1.2.0 in /usr/local/lib/python3.10/dist-packages (from scikit-surprise) (1.4.2)\n",
            "Requirement already satisfied: numpy>=1.19.5 in /usr/local/lib/python3.10/dist-packages (from scikit-surprise) (1.25.2)\n",
            "Requirement already satisfied: scipy>=1.6.0 in /usr/local/lib/python3.10/dist-packages (from scikit-surprise) (1.11.4)\n",
            "Requirement already satisfied: python-dateutil>=2.8.2 in /usr/local/lib/python3.10/dist-packages (from pandas) (2.8.2)\n",
            "Requirement already satisfied: pytz>=2020.1 in /usr/local/lib/python3.10/dist-packages (from pandas) (2023.4)\n",
            "Requirement already satisfied: tzdata>=2022.1 in /usr/local/lib/python3.10/dist-packages (from pandas) (2024.1)\n",
            "Requirement already satisfied: six>=1.5 in /usr/local/lib/python3.10/dist-packages (from python-dateutil>=2.8.2->pandas) (1.16.0)\n",
            "Building wheels for collected packages: scikit-surprise\n",
            "  Building wheel for scikit-surprise (pyproject.toml) ... \u001b[?25l\u001b[?25hdone\n",
            "  Created wheel for scikit-surprise: filename=scikit_surprise-1.1.4-cp310-cp310-linux_x86_64.whl size=2357236 sha256=c897d8b769a5dac67b2dfa1088a2aed5c6e3272fc111d6eee5b1395987601522\n",
            "  Stored in directory: /root/.cache/pip/wheels/4b/3f/df/6acbf0a40397d9bf3ff97f582cc22fb9ce66adde75bc71fd54\n",
            "Successfully built scikit-surprise\n",
            "Installing collected packages: scikit-surprise\n",
            "Successfully installed scikit-surprise-1.1.4\n",
            "RMSE: 0.9321\n",
            "Top 10 movie recommendations for user 1:\n",
            "     movie_id                                     title\n",
            "44         45                Eat Drink Man Woman (1994)\n",
            "49         50                          Star Wars (1977)\n",
            "63         64          Shawshank Redemption, The (1994)\n",
            "123       124                          Lone Star (1996)\n",
            "153       154       Monty Python's Life of Brian (1979)\n",
            "167       168    Monty Python and the Holy Grail (1974)\n",
            "169       170                    Cinema Paradiso (1988)\n",
            "171       172           Empire Strikes Back, The (1980)\n",
            "172       173                Princess Bride, The (1987)\n",
            "173       174            Raiders of the Lost Ark (1981)\n",
            "174       175                             Brazil (1985)\n",
            "175       176                             Aliens (1986)\n",
            "176       177    Good, The Bad and The Ugly, The (1966)\n",
            "177       178                       12 Angry Men (1957)\n",
            "182       183                              Alien (1979)\n",
            "194       195                    Terminator, The (1984)\n",
            "222       223                        Sling Blade (1996)\n",
            "407       408                     Close Shave, A (1995)\n",
            "482       483                         Casablanca (1942)\n",
            "518       519  Treasure of the Sierra Madre, The (1948)\n"
          ]
        }
      ]
    },
    {
      "cell_type": "code",
      "source": [
        "!pip install scikit-surprise pandas\n"
      ],
      "metadata": {
        "colab": {
          "base_uri": "https://localhost:8080/"
        },
        "id": "v_-8CDRlGRBd",
        "outputId": "7da7c753-9946-4a49-a516-9a684716386e"
      },
      "execution_count": 2,
      "outputs": [
        {
          "output_type": "stream",
          "name": "stdout",
          "text": [
            "Requirement already satisfied: scikit-surprise in /usr/local/lib/python3.10/dist-packages (1.1.4)\n",
            "Requirement already satisfied: pandas in /usr/local/lib/python3.10/dist-packages (2.0.3)\n",
            "Requirement already satisfied: joblib>=1.2.0 in /usr/local/lib/python3.10/dist-packages (from scikit-surprise) (1.4.2)\n",
            "Requirement already satisfied: numpy>=1.19.5 in /usr/local/lib/python3.10/dist-packages (from scikit-surprise) (1.25.2)\n",
            "Requirement already satisfied: scipy>=1.6.0 in /usr/local/lib/python3.10/dist-packages (from scikit-surprise) (1.11.4)\n",
            "Requirement already satisfied: python-dateutil>=2.8.2 in /usr/local/lib/python3.10/dist-packages (from pandas) (2.8.2)\n",
            "Requirement already satisfied: pytz>=2020.1 in /usr/local/lib/python3.10/dist-packages (from pandas) (2023.4)\n",
            "Requirement already satisfied: tzdata>=2022.1 in /usr/local/lib/python3.10/dist-packages (from pandas) (2024.1)\n",
            "Requirement already satisfied: six>=1.5 in /usr/local/lib/python3.10/dist-packages (from python-dateutil>=2.8.2->pandas) (1.16.0)\n"
          ]
        }
      ]
    },
    {
      "cell_type": "code",
      "source": [
        "import pandas as pd\n",
        "from surprise import Dataset, Reader, SVD\n",
        "from surprise.model_selection import train_test_split\n",
        "from surprise import accuracy\n",
        "\n",
        "# Load the MovieLens-100k dataset\n",
        "url = \"http://files.grouplens.org/datasets/movielens/ml-100k/u.data\"\n",
        "columns = ['user_id', 'item_id', 'rating', 'timestamp']\n",
        "df = pd.read_csv(url, sep='\\t', names=columns)\n",
        "\n",
        "# Load the movie titles\n",
        "url_movies = \"http://files.grouplens.org/datasets/movielens/ml-100k/u.item\"\n",
        "columns_movies = ['movie_id', 'title', 'release_date', 'video_release_date', 'IMDb_URL', 'unknown',\n",
        "                  'Action', 'Adventure', 'Animation', 'Children', 'Comedy', 'Crime', 'Documentary',\n",
        "                  'Drama', 'Fantasy', 'Film-Noir', 'Horror', 'Musical', 'Mystery', 'Romance',\n",
        "                  'Sci-Fi', 'Thriller', 'War', 'Western']\n",
        "df_movies = pd.read_csv(url_movies, sep='|', names=columns_movies, encoding='latin-1')\n",
        "\n",
        "# Check the data\n",
        "df.head(), df_movies.head()\n"
      ],
      "metadata": {
        "colab": {
          "base_uri": "https://localhost:8080/"
        },
        "id": "Y5v9ZE3PGWdA",
        "outputId": "0c8f9544-9a6a-435e-d37f-e1831460f2c3"
      },
      "execution_count": 3,
      "outputs": [
        {
          "output_type": "execute_result",
          "data": {
            "text/plain": [
              "(   user_id  item_id  rating  timestamp\n",
              " 0      196      242       3  881250949\n",
              " 1      186      302       3  891717742\n",
              " 2       22      377       1  878887116\n",
              " 3      244       51       2  880606923\n",
              " 4      166      346       1  886397596,\n",
              "    movie_id              title release_date  video_release_date  \\\n",
              " 0         1   Toy Story (1995)  01-Jan-1995                 NaN   \n",
              " 1         2   GoldenEye (1995)  01-Jan-1995                 NaN   \n",
              " 2         3  Four Rooms (1995)  01-Jan-1995                 NaN   \n",
              " 3         4  Get Shorty (1995)  01-Jan-1995                 NaN   \n",
              " 4         5     Copycat (1995)  01-Jan-1995                 NaN   \n",
              " \n",
              "                                             IMDb_URL  unknown  Action  \\\n",
              " 0  http://us.imdb.com/M/title-exact?Toy%20Story%2...        0       0   \n",
              " 1  http://us.imdb.com/M/title-exact?GoldenEye%20(...        0       1   \n",
              " 2  http://us.imdb.com/M/title-exact?Four%20Rooms%...        0       0   \n",
              " 3  http://us.imdb.com/M/title-exact?Get%20Shorty%...        0       1   \n",
              " 4  http://us.imdb.com/M/title-exact?Copycat%20(1995)        0       0   \n",
              " \n",
              "    Adventure  Animation  Children  ...  Fantasy  Film-Noir  Horror  Musical  \\\n",
              " 0          0          1         1  ...        0          0       0        0   \n",
              " 1          1          0         0  ...        0          0       0        0   \n",
              " 2          0          0         0  ...        0          0       0        0   \n",
              " 3          0          0         0  ...        0          0       0        0   \n",
              " 4          0          0         0  ...        0          0       0        0   \n",
              " \n",
              "    Mystery  Romance  Sci-Fi  Thriller  War  Western  \n",
              " 0        0        0       0         0    0        0  \n",
              " 1        0        0       0         1    0        0  \n",
              " 2        0        0       0         1    0        0  \n",
              " 3        0        0       0         0    0        0  \n",
              " 4        0        0       0         1    0        0  \n",
              " \n",
              " [5 rows x 24 columns])"
            ]
          },
          "metadata": {},
          "execution_count": 3
        }
      ]
    },
    {
      "cell_type": "code",
      "source": [
        "# Define the format of the dataset\n",
        "reader = Reader(rating_scale=(1, 5))\n",
        "\n",
        "# Load the dataset into Surprise\n",
        "data = Dataset.load_from_df(df[['user_id', 'item_id', 'rating']], reader)\n"
      ],
      "metadata": {
        "id": "Zmy5xhi2Gcij"
      },
      "execution_count": 4,
      "outputs": []
    },
    {
      "cell_type": "code",
      "source": [
        "# Split the dataset into training and test set\n",
        "trainset, testset = train_test_split(data, test_size=0.2)\n"
      ],
      "metadata": {
        "id": "zEo0oeSzGgj2"
      },
      "execution_count": 5,
      "outputs": []
    },
    {
      "cell_type": "code",
      "source": [
        "# Use the SVD algorithm\n",
        "model = SVD()\n",
        "\n",
        "# Train the model\n",
        "model.fit(trainset)\n"
      ],
      "metadata": {
        "colab": {
          "base_uri": "https://localhost:8080/"
        },
        "id": "XTrUntArGmqz",
        "outputId": "d6e5ceec-c4d4-4583-8e05-7b3b339a9088"
      },
      "execution_count": 6,
      "outputs": [
        {
          "output_type": "execute_result",
          "data": {
            "text/plain": [
              "<surprise.prediction_algorithms.matrix_factorization.SVD at 0x7f27c0bc47c0>"
            ]
          },
          "metadata": {},
          "execution_count": 6
        }
      ]
    },
    {
      "cell_type": "code",
      "source": [
        "# Predict ratings for the test set\n",
        "predictions = model.test(testset)\n",
        "\n",
        "# Compute the RMSE (Root Mean Squared Error)\n",
        "rmse = accuracy.rmse(predictions)\n"
      ],
      "metadata": {
        "colab": {
          "base_uri": "https://localhost:8080/"
        },
        "id": "xecBFF-TGsyo",
        "outputId": "5a9688ca-9697-42e3-a91d-771f441c26e8"
      },
      "execution_count": 7,
      "outputs": [
        {
          "output_type": "stream",
          "name": "stdout",
          "text": [
            "RMSE: 0.9389\n"
          ]
        }
      ]
    },
    {
      "cell_type": "code",
      "source": [
        "# Function to get top N recommendations for a given user including movie titles\n",
        "def get_top_n_recommendations(user_id, model, n=10):\n",
        "    # Get a list of all item ids\n",
        "    all_items = df['item_id'].unique()\n",
        "\n",
        "    # Predict ratings for all items for the given user\n",
        "    user_predictions = [model.predict(user_id, item_id) for item_id in all_items]\n",
        "\n",
        "    # Sort predictions by estimated rating\n",
        "    user_predictions.sort(key=lambda x: x.est, reverse=True)\n",
        "\n",
        "    # Get the top N items\n",
        "    top_n_items = [pred.iid for pred in user_predictions[:n]]\n",
        "\n",
        "    # Get the movie titles for the top N items\n",
        "    top_n_movies = df_movies[df_movies['movie_id'].isin(top_n_items)][['movie_id', 'title']]\n",
        "\n",
        "    return top_n_movies\n",
        "\n",
        "# Get top 10 recommendations for a user (e.g., user_id = 1)\n",
        "user_id = 1\n",
        "top_n_recommendations = get_top_n_recommendations(user_id, model, n=15)\n",
        "print(f\"Top 10 movie recommendations for user {user_id}:\")\n",
        "print(top_n_recommendations)\n"
      ],
      "metadata": {
        "id": "PtAnWsPAGxNT",
        "outputId": "72fcdb00-6ebe-4af1-d481-1d40eabfe9cd",
        "colab": {
          "base_uri": "https://localhost:8080/"
        }
      },
      "execution_count": 8,
      "outputs": [
        {
          "output_type": "stream",
          "name": "stdout",
          "text": [
            "Top 10 movie recommendations for user 1:\n",
            "     movie_id                                   title\n",
            "11         12              Usual Suspects, The (1995)\n",
            "49         50                        Star Wars (1977)\n",
            "63         64        Shawshank Redemption, The (1994)\n",
            "99        100                            Fargo (1996)\n",
            "131       132                Wizard of Oz, The (1939)\n",
            "168       169              Wrong Trousers, The (1993)\n",
            "171       172         Empire Strikes Back, The (1980)\n",
            "180       181               Return of the Jedi (1983)\n",
            "222       223                      Sling Blade (1996)\n",
            "245       246                      Chasing Amy (1997)\n",
            "284       285                   Secrets & Lies (1996)\n",
            "356       357  One Flew Over the Cuckoo's Nest (1975)\n",
            "426       427            To Kill a Mockingbird (1962)\n",
            "482       483                       Casablanca (1942)\n",
            "646       647                              Ran (1985)\n"
          ]
        }
      ]
    }
  ]
}